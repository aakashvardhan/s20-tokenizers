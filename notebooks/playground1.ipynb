{
 "cells": [
  {
   "cell_type": "code",
   "execution_count": 1,
   "metadata": {},
   "outputs": [],
   "source": [
    "import regex as re"
   ]
  },
  {
   "cell_type": "code",
   "execution_count": 2,
   "metadata": {},
   "outputs": [],
   "source": [
    "GPT4_SPLIT_PATTERN = r\"\"\"'(?i:[sdmt]|ll|ve|re)|[^\\r\\n\\p{L}\\p{N}]?+\\p{L}+|\\p{N}{1,3}| ?[^\\s\\p{L}\\p{N}]++[\\r\\n]*|\\s*[\\r\\n]|\\s+(?!\\S)|\\s+\"\"\""
   ]
  },
  {
   "cell_type": "code",
   "execution_count": 3,
   "metadata": {},
   "outputs": [
    {
     "name": "stdout",
     "output_type": "stream",
     "text": [
      "['Thequickbrown', '777', 'jumpsov', '14', 'thelazydog', '.']\n"
     ]
    }
   ],
   "source": [
    "text_eng = \"Thequickbrown777jumpsov14thelazydog.\"\n",
    "text_chunks = re.findall(GPT4_SPLIT_PATTERN, text_eng)\n",
    "print(text_chunks)"
   ]
  },
  {
   "cell_type": "code",
   "execution_count": 6,
   "metadata": {},
   "outputs": [
    {
     "name": "stdout",
     "output_type": "stream",
     "text": [
      "[' ने', ' कहा', ' है', ' कि', ' सोलरसिटी', ' टेस्ला', ' और', ' स्पेसएक्स', ' का', ' लक्ष्य']\n"
     ]
    }
   ],
   "source": [
    "text = \"एलन ने कहा है कि सोलरसिटी, टेस्ला और स्पेसएक्स का लक्ष्य\"\n",
    "split_pattern = r'[^\\r\\n\\p{L}\\p{N}]?[\\p{L}\\p{M}]+|\\p{N}{1,3}| ?[^\\s\\p{L}\\p{N}]+[\\r\\n]*|\\s*[\\r\\n]|\\s+(?!\\S)|\\s+'\n",
    "\n",
    "deva_split_pattern = r'\\s\\p{Deva}+'\n",
    "text_chunks = re.findall(deva_split_pattern, text)\n",
    "print(text_chunks)\n"
   ]
  },
  {
   "cell_type": "code",
   "execution_count": 5,
   "metadata": {},
   "outputs": [
    {
     "name": "stdout",
     "output_type": "stream",
     "text": [
      "['एलन', ' ने', ' कहा', ' है', ' कि', ' सोलरसिटी', ',', ' टेस्ला', ' और', ' स्पेसएक्स', ' का', ' लक्ष्य']\n"
     ]
    }
   ],
   "source": [
    "text_chunks = re.findall(split_pattern, text)\n",
    "print(text_chunks)"
   ]
  },
  {
   "cell_type": "code",
   "execution_count": null,
   "metadata": {},
   "outputs": [],
   "source": []
  }
 ],
 "metadata": {
  "kernelspec": {
   "display_name": "myproject",
   "language": "python",
   "name": "python3"
  },
  "language_info": {
   "codemirror_mode": {
    "name": "ipython",
    "version": 3
   },
   "file_extension": ".py",
   "mimetype": "text/x-python",
   "name": "python",
   "nbconvert_exporter": "python",
   "pygments_lexer": "ipython3",
   "version": "3.11.0"
  }
 },
 "nbformat": 4,
 "nbformat_minor": 2
}
